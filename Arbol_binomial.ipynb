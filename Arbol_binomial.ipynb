{
  "nbformat": 4,
  "nbformat_minor": 0,
  "metadata": {
    "colab": {
      "name": "Untitled4.ipynb",
      "provenance": [],
      "authorship_tag": "ABX9TyOHy2GxA/xC4wqi1DZU/npN",
      "include_colab_link": true
    },
    "kernelspec": {
      "name": "python3",
      "display_name": "Python 3"
    },
    "language_info": {
      "name": "python"
    }
  },
  "cells": [
    {
      "cell_type": "markdown",
      "metadata": {
        "id": "view-in-github",
        "colab_type": "text"
      },
      "source": [
        "<a href=\"https://colab.research.google.com/github/Eerdozain/Apuntes/blob/main/Arbol_binomial.ipynb\" target=\"_parent\"><img src=\"https://colab.research.google.com/assets/colab-badge.svg\" alt=\"Open In Colab\"/></a>"
      ]
    },
    {
      "cell_type": "code",
      "execution_count": null,
      "metadata": {
        "id": "LUhMQu42nuEP"
      },
      "outputs": [],
      "source": [
        ""
      ]
    },
    {
      "cell_type": "code",
      "source": [
        "#CALCULO DEL PRECIO DE UNA OPCION POR ARBOLES BINOMIAL\n",
        "import numpy as np\n",
        "from scipy.stats import binom\n",
        "#introducimos datosd iniciales\n",
        "tipo=input('Si opcion CALL,1. Si opcion PUT,2') or '1'\n",
        "if tipo=='1':\n",
        "   print('CALL')\n",
        "if tipo=='2':\n",
        "   print('PUT')\n",
        "spot=float(input('Pspot ACTsuby:')or 100)\n",
        "print('Pspot:',spot)\n",
        "strik=float(input('Pejerc strik:')or 110)\n",
        "print('strik:',strik)\n",
        "años=float(input('duracion:')or 2)\n",
        "print('años', años)\n",
        "volatilidad=float(input('volatilidad anual:')or 0.2)\n",
        "print('volatilidad=',volatilidad*100,'%')\n",
        "n=int(input('numero de etapas arbol binomial:') or 4)\n",
        "print('N etapas:',n)\n",
        "tInt=float(input('Rent sin riesgo:')or 0.07)\n",
        "print('tipo intres:',tInt*100,'%')\n",
        "#Calculamos el calor del tanto instantaneo,r\n",
        "r=np.log(1+tInt)\n",
        "#calculamos u,d,py el incremento de t\n",
        "dT=años/n\n",
        "u=np.exp(volatilidad*np.sqrt(dT))\n",
        "d=1/u\n",
        "p=(np.exp(r*dT)-d)/(u-d)\n",
        "#Generamos los precios que se esperan del activo en su vto\n",
        "Sn=[0]*(n+1) #siendo Sn el array de P de ActSub\n",
        "print('u',u,'p',p,'dT',dT)\n",
        "for i in range(n+1):\n",
        "  Sn[i]=spot*u**(n-1)*d**(i)\n",
        "#calculamos el payoff en funcion de si es CALL o PUT\n",
        "payoff=[0]*(n+1)\n",
        "for i in range (n+1):\n",
        "  if tipo=='1':\n",
        "      payoff[i]=max(0,Sn[i]-strik)\n",
        "  if tipo=='2':\n",
        "      payoff[i]=max(0,strik-Sn[i])  \n",
        "#calculamos en valor de la prima a pagar\n",
        "prima=0\n",
        "for i in range (n+1):\n",
        "  prima+=payoff[i]*binom.pmf(n-1,n,p)\n",
        "\n",
        "\n",
        "  #descontamos el valor de la prima para saber su valor en t=0\n",
        "prima=prima*np.exp(-r*años) \n",
        "print('el valor actual de prima es', prima)\n",
        "\n"
      ],
      "metadata": {
        "id": "ubEw1mlsnyjW"
      },
      "execution_count": null,
      "outputs": []
    },
    {
      "cell_type": "code",
      "source": [
        "import numpy as np\n",
        "from scipy.stats import binom\n",
        "def prima(tipo,spot,strik,años,volatilidad,n,tInt):\n",
        "    r=np.log(1+tInt) #calculamos en tanto instanteneo\n",
        "    dT=años/n #dif años\n",
        "    u=np.exp(volatilidad*np.sqrt(dT)) #factor de subida\n",
        "    d=1/u #factor de bajada\n",
        "    p=(np.exp(r*dT)-d)/(u-d) #prob subida\n",
        "    Sn=[0]*(n+1) #lista de P del activo en vto\n",
        "    payoff=[0]*(n+1)\n",
        "    prima=0\n",
        "    for i in range (n+1):\n",
        "        Sn[i]=spot*u**(n-i)*d**i\n",
        "        if tipo.lower()=='call':  #ponemos lower para transformar en minisculas\n",
        "         payoff[i]=max(0,Sn[i]-strik)\n",
        "        if tipo.lower()=='put':\n",
        "         payoff[i]=max(0,strik-Sn[i])\n",
        "        prima+=payoff[i]*binom.pmf(n-i,n,p)   \n",
        "    prima*=np.exp(-r*años) #calculamos el valor de la prima en el valor actual\n",
        "\n",
        "    return prima\n",
        "\n",
        "\n",
        "m=50 # m es el numero de pasos\n",
        "evolucion=[0]*50\n",
        "for j in range(m):\n",
        "    evolucion[j]=prima(\"call\",100,110,2,0.2,j+1,0.07)\n",
        "    print('prima(',j+1,')=',evolucion[j])\n",
        "\n",
        "print(prima('put',100,105,7/12,0.4,5,np.exp(0.08)-1))  \n",
        "  \n",
        "\n",
        "\n"
      ],
      "metadata": {
        "id": "XK2--Vqdn4Er"
      },
      "execution_count": null,
      "outputs": []
    }
  ]
}