{
  "nbformat": 4,
  "nbformat_minor": 0,
  "metadata": {
    "colab": {
      "name": "Paridad_put_call.ipynb",
      "provenance": [],
      "authorship_tag": "ABX9TyMfSKZfB0Xd6x8ZpN7+omhw",
      "include_colab_link": true
    },
    "kernelspec": {
      "name": "python3",
      "display_name": "Python 3"
    },
    "language_info": {
      "name": "python"
    }
  },
  "cells": [
    {
      "cell_type": "markdown",
      "metadata": {
        "id": "view-in-github",
        "colab_type": "text"
      },
      "source": [
        "<a href=\"https://colab.research.google.com/github/Eerdozain/Apuntes/blob/main/Paridad_put_call.ipynb\" target=\"_parent\"><img src=\"https://colab.research.google.com/assets/colab-badge.svg\" alt=\"Open In Colab\"/></a>"
      ]
    },
    {
      "cell_type": "code",
      "execution_count": 12,
      "metadata": {
        "colab": {
          "base_uri": "https://localhost:8080/"
        },
        "id": "mdTZW_JHmF6y",
        "outputId": "29fb66f4-c3d7-451b-ec61-3373df4ad7df"
      },
      "outputs": [
        {
          "output_type": "stream",
          "name": "stdout",
          "text": [
            "Precio de la opción call en el mercado -41.69150000000002\n",
            "Precio que la opción call debería tener -41.69150000000002\n",
            "Comprar el put y vender el call\n"
          ]
        }
      ],
      "source": [
        "import random\n",
        "import math\n",
        "import numpy\n",
        "\n",
        "#indicamos los valores del ejercicio resuelto en excel\n",
        "\n",
        "S = 80\n",
        "E = 115\n",
        "t = 2\n",
        "i = 0.11\n",
        "r = numpy.log(1+i)\n",
        "P = 20\n",
        "\n",
        "#indicamos las ecuaciones\n",
        "E_actualizado = E*(math.exp(t*r))\n",
        "\n",
        "A_teórico = S + P - E_actualizado\n",
        "\n",
        "#comprobamos que existe paridad entre el put real y el call teórico\n",
        "P == A_teórico\n",
        "A = 55\n",
        "\n",
        "\n",
        "\n",
        "#indicamos la estrategia dependiendo del precio \n",
        "print(\"Precio de la opción call en el mercado\", A_teórico)\n",
        "print(\"Precio que la opción call debería tener\", A_teórico)\n",
        "\n",
        "if A == A_teórico:\n",
        "  print(\"El arbitraje no es posible\")\n",
        "else:\n",
        "  if A > A_teórico:\n",
        "    print(\"Comprar el put y vender el call\")\n",
        "  else:\n",
        "    print(\"Comprar el call y vender el put\")"
      ]
    }
  ]
}