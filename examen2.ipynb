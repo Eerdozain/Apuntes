{
  "nbformat": 4,
  "nbformat_minor": 0,
  "metadata": {
    "colab": {
      "name": "Untitled3.ipynb",
      "provenance": [],
      "authorship_tag": "ABX9TyMC5iPD0D7c9X0r2QNjzveq",
      "include_colab_link": true
    },
    "kernelspec": {
      "name": "python3",
      "display_name": "Python 3"
    },
    "language_info": {
      "name": "python"
    }
  },
  "cells": [
    {
      "cell_type": "markdown",
      "metadata": {
        "id": "view-in-github",
        "colab_type": "text"
      },
      "source": [
        "<a href=\"https://colab.research.google.com/github/Eerdozain/Apuntes/blob/main/examen2.ipynb\" target=\"_parent\"><img src=\"https://colab.research.google.com/assets/colab-badge.svg\" alt=\"Open In Colab\"/></a>"
      ]
    },
    {
      "cell_type": "code",
      "execution_count": 1,
      "metadata": {
        "colab": {
          "base_uri": "https://localhost:8080/"
        },
        "id": "hkzZssw0PQJG",
        "outputId": "a29d7521-c74e-457b-a890-346593400bf7"
      },
      "outputs": [
        {
          "output_type": "stream",
          "name": "stdout",
          "text": [
            "Collecting numpy-financial\n",
            "  Downloading numpy_financial-1.0.0-py3-none-any.whl (14 kB)\n",
            "Requirement already satisfied: numpy>=1.15 in /usr/local/lib/python3.7/dist-packages (from numpy-financial) (1.21.5)\n",
            "Installing collected packages: numpy-financial\n",
            "Successfully installed numpy-financial-1.0.0\n"
          ]
        }
      ],
      "source": [
        "pip install numpy-financial"
      ]
    },
    {
      "cell_type": "markdown",
      "source": [
        "n el mercado están disponibles los siguientes bonos:\n",
        "\n",
        "Bono A: Letra del Tesoro de duración un año y precio de adquisición 935 €\n",
        "Bono B: Bono cupón explícito del 7% y duración 2 años que se adquiere con un descuento del 2% sobre el nominal.\n",
        "Determinar el tipo de interés forward implícito para el periodo que se inicia en t=1 y finaliza en t=2 años.\n",
        "\n",
        "Nota: Parte del código Python es el siguiente.\n",
        "\n",
        "bonoA = np.array([-935, 1000, 0])\n",
        "bonoB = np.array([-98, 7, 107])"
      ],
      "metadata": {
        "id": "cFHGmByXPbw2"
      }
    },
    {
      "cell_type": "code",
      "source": [
        "import numpy_financial as npf\n",
        "import numpy as np\n",
        "\n",
        "##############       MÉTODO 1       ##############\n",
        "\n",
        "# DATOS   \n",
        "bonoA = np.array([-935, 1000, 0])\n",
        "bonoB = np.array([-98, 7, 107])  # ver los flujos de caja del archivo Excel\n",
        "\n",
        "# Bono C\n",
        "bonoC = np.array([0,0,0])        # inicializamos el ndarray\n",
        "bonoC = bonoA[0]*bonoB - bonoB[0]*bonoA\n",
        "print(f\"Bono C: {bonoC}\")\n",
        "\n",
        "# Forward r12\n",
        "r12 = npf.irr(bonoC)\n",
        "print(f\"MÉTODO 1: el forward r12 es {r12:.4%}\")\n"
      ],
      "metadata": {
        "colab": {
          "base_uri": "https://localhost:8080/"
        },
        "id": "weUUi1X_Pwf-",
        "outputId": "9a48f16b-90d7-4770-ffcd-35d6b706f5e9"
      },
      "execution_count": 2,
      "outputs": [
        {
          "output_type": "stream",
          "name": "stdout",
          "text": [
            "Bono C: [      0   91455 -100045]\n",
            "MÉTODO 1: el forward r12 es 9.3926%\n"
          ]
        }
      ]
    }
  ]
}