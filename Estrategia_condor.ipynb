{
  "nbformat": 4,
  "nbformat_minor": 0,
  "metadata": {
    "colab": {
      "name": "Estrategia_condor.ipynb",
      "provenance": [],
      "authorship_tag": "ABX9TyMrwh4UOfNRZJVy+h7SXW+F",
      "include_colab_link": true
    },
    "kernelspec": {
      "name": "python3",
      "display_name": "Python 3"
    },
    "language_info": {
      "name": "python"
    }
  },
  "cells": [
    {
      "cell_type": "markdown",
      "metadata": {
        "id": "view-in-github",
        "colab_type": "text"
      },
      "source": [
        "<a href=\"https://colab.research.google.com/github/Eerdozain/Apuntes/blob/main/Estrategia_condor.ipynb\" target=\"_parent\"><img src=\"https://colab.research.google.com/assets/colab-badge.svg\" alt=\"Open In Colab\"/></a>"
      ]
    },
    {
      "cell_type": "code",
      "execution_count": 2,
      "metadata": {
        "colab": {
          "base_uri": "https://localhost:8080/",
          "height": 354
        },
        "id": "DMMai1fHNTfv",
        "outputId": "fc3b069c-4785-4855-b28a-63a9d0047ac6"
      },
      "outputs": [
        {
          "output_type": "stream",
          "name": "stdout",
          "text": [
            "[ -9  -9  -9  -9  -9  -9 -10 -11 -12 -13 -14 -15 -16 -17 -18 -19 -19 -19\n",
            " -19 -19 -19 -19 -19 -19 -19 -19 -19 -19 -19 -19 -19 -19 -19 -19 -19 -19\n",
            " -18 -17 -16 -15 -14 -13 -12 -11 -10  -9  -9  -9  -9  -9]\n",
            "[75, 76, 77, 78, 79, 80, 81, 82, 83, 84, 85, 86, 87, 88, 89, 90, 91, 92, 93, 94, 95, 96, 97, 98, 99, 100, 101, 102, 103, 104, 105, 106, 107, 108, 109, 110, 111, 112, 113, 114, 115, 116, 117, 118, 119, 120, 121, 122, 123, 124]\n"
          ]
        },
        {
          "output_type": "display_data",
          "data": {
            "text/plain": [
              "<Figure size 432x288 with 1 Axes>"
            ],
            "image/png": "[encoded data removed]"
          },
          "metadata": {
            "needs_background": "light"
          }
        }
      ],
      "source": [
        "#estrategia cóndor\n",
        "import numpy as np\n",
        "import matplotlib.pyplot as plt  \n",
        "\n",
        "\n",
        "#indicamos el tipo de estrategia cóndor: \"comprado\" o \"vendido\"\n",
        "tipo_estrategia = \"vendido\"\n",
        "\n",
        "#establecemos el precio de ejercicio de las opciones call\n",
        "precio_A = 80\n",
        "precio_B = 90\n",
        "precio_C = 110\n",
        "precio_D = 120\n",
        "\n",
        "#indicamos la prima de cada una\n",
        "prima_A = 8\n",
        "prima_B = 12\n",
        "prima_C = 10\n",
        "prima_D = 5\n",
        "\n",
        "# la cantidad de opciones\n",
        "opciones_A = 1\n",
        "opciones_B = 1\n",
        "opciones_C = 1\n",
        "opciones_D = 1\n",
        "\n",
        "#indicamos el margen y calculamos la lista de precios\n",
        "margen = 5\n",
        "S = [*range(precio_A - margen, precio_D + margen)]\n",
        "S\n",
        "\n",
        "#creamos vectores para almacenar el valor de cada opción en cada nivel de S\n",
        "valor_A = [0]*len(S)\n",
        "valor_B = [0]*len(S)\n",
        "valor_C = [0]*len(S)\n",
        "valor_D = [0]*len(S)\n",
        "\n",
        "#en cóndor comprado la secuencia de operaciones con opciones es: compra-venta-venta-compra y en el cóndor vendido:venta-compra-compra-venta\n",
        "\n",
        "\n",
        "#opción A\n",
        "for i in range(0, len(S)):\n",
        "  if S[i] < precio_A:\n",
        "    valor_A[i] = 0 - prima_A\n",
        "  else:\n",
        "    valor_A[i] = S[i] - precio_A - prima_A\n",
        "\n",
        "#opción B\n",
        "for i in range(0, len(S)):\n",
        "  if S[i] < precio_B:\n",
        "    valor_B[i] = 0 - prima_B\n",
        "  else:\n",
        "    valor_B[i] = S[i] - precio_B - prima_B\n",
        "\n",
        "#opción C\n",
        "for i in range(0, len(S)):\n",
        "  if S[i] < precio_C:\n",
        "    valor_C[i] = 0 - prima_C\n",
        "  else:\n",
        "    valor_C[i] = S[i] - precio_C - prima_C\n",
        "\n",
        "#opción D\n",
        "for i in range(0, len(S)):\n",
        "  if S[i] < precio_D:\n",
        "    valor_D[i] = 0 - prima_D\n",
        "  else:\n",
        "    valor_D[i] = S[i] - precio_D - prima_D\n",
        "\n",
        "#convertimos las listas en vectores\n",
        "valor_A = np.array(valor_A)\n",
        "valor_B = np.array(valor_B)\n",
        "valor_C = np.array(valor_C)\n",
        "valor_D = np.array(valor_D)\n",
        "\n",
        "#arreglamos la fórmula para la opción comprado\n",
        "if tipo_estrategia == \"Comprado\":\n",
        "  valor_A = valor_A * opciones_A\n",
        "  valor_B = valor_B * opciones_B * -1\n",
        "  valor_C = valor_C * opciones_C * -1\n",
        "  valor_D = valor_D * opciones_D\n",
        "  \n",
        "else:\n",
        "  valor_A = valor_A * opciones_A * -1\n",
        "  valor_B = valor_B * opciones_B\n",
        "  valor_C = valor_C * opciones_C\n",
        "  valor_D = valor_D * opciones_D * -1\n",
        "\n",
        "#agregamos todos los vectores\n",
        "valor_total = valor_A + valor_B + valor_C + valor_D\n",
        "\n",
        "#mostramos el valor total de la operación para cada precio subyacente\n",
        "print(valor_total)\n",
        "print(S)\n",
        "\n",
        "#lo representamos en un gráfico\n",
        "plt.plot(S, valor_total)  \n",
        "plt.show()"
      ]
    }
  ]
}