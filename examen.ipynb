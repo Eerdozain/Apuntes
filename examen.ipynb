{
  "nbformat": 4,
  "nbformat_minor": 0,
  "metadata": {
    "colab": {
      "name": "Untitled2.ipynb",
      "provenance": [],
      "authorship_tag": "ABX9TyMv4gvh9uTjd9VlrfCNqh9D",
      "include_colab_link": true
    },
    "kernelspec": {
      "name": "python3",
      "display_name": "Python 3"
    },
    "language_info": {
      "name": "python"
    }
  },
  "cells": [
    {
      "cell_type": "markdown",
      "metadata": {
        "id": "view-in-github",
        "colab_type": "text"
      },
      "source": [
        "<a href=\"https://colab.research.google.com/github/Eerdozain/Apuntes/blob/main/examen.ipynb\" target=\"_parent\"><img src=\"https://colab.research.google.com/assets/colab-badge.svg\" alt=\"Open In Colab\"/></a>"
      ]
    },
    {
      "cell_type": "code",
      "execution_count": 2,
      "metadata": {
        "colab": {
          "base_uri": "https://localhost:8080/"
        },
        "id": "ZrXo568KNmt3",
        "outputId": "af711fce-57ef-46dc-8bb6-b140a77b083a"
      },
      "outputs": [
        {
          "output_type": "stream",
          "name": "stdout",
          "text": [
            "Collecting numpy-financial\n",
            "  Downloading numpy_financial-1.0.0-py3-none-any.whl (14 kB)\n",
            "Requirement already satisfied: numpy>=1.15 in /usr/local/lib/python3.7/dist-packages (from numpy-financial) (1.21.5)\n",
            "Installing collected packages: numpy-financial\n",
            "Successfully installed numpy-financial-1.0.0\n"
          ]
        }
      ],
      "source": [
        "pip install numpy-financial"
      ]
    },
    {
      "cell_type": "code",
      "source": [
        "import numpy_financial as npf\n",
        "import numpy as np"
      ],
      "metadata": {
        "id": "bpEnTtzGNrPD"
      },
      "execution_count": 3,
      "outputs": []
    },
    {
      "cell_type": "markdown",
      "source": [
        "\n",
        "\n",
        "En un mercado de renta fija cotizan los siguientes bonos\n",
        "\n",
        "Bono A: es un bono cupón cero a un año que se adquiere por 100 y se amortiza por 110\n",
        "Bono B: es un bono cupón cero a dos años con TIR del 11% y precio de adquisición de 500 €\n",
        "Bono C: es un bono cupón cero a tres años con TIR del 12% y nominal de 1.000 €\n",
        "Calcular el tipo de interés forward implícito en el mercado: r23\n",
        "\n",
        "Nota: Parte del código en Python sería el siguiente.\n",
        "\n",
        "bonoA = np.array([-100, 110, 0, 0])\n",
        "bonoB = np.array([-500, 0, 500*1.11**2, 0])   # la TIR del bono B es del 11%\n",
        "bonoC = np.array([-1000/1.12**3, 0, 0, 1000])  # la TIR del bono C es del 12%"
      ],
      "metadata": {
        "id": "K--6FTkdNzJY"
      }
    },
    {
      "cell_type": "code",
      "source": [
        "# DATOS   \n",
        "\n",
        "bonoA = np.array([-100, 110, 0, 0])\n",
        "bonoB = np.array([-500, 0, 500*1.11**2, 0])   # la TIR del bono B es del 11%\n",
        "bonoC = np.array([-1000/1.12**3, 0, 0, 1000])  # la TIR del bono C es del 12%\n",
        "print(f\"Bono A: {bonoA}\")\n",
        "print(f\"Bono B: {bonoB}\")\n",
        "print(f\"Bono C: {bonoC}\")\n",
        "\n",
        "##############       MÉTODO 1       ##############\n",
        "\n",
        "bonoD = np.ndarray([0,0,0,0])\n",
        "bonoD = -bonoC[0] * bonoB + bonoB[0] * bonoC\n",
        "print(f\"Bono D: {bonoD}\")\n",
        "tirD = npf.irr(bonoD)\n",
        "print(f\"Método 1: el forward r23 es {tirD:.5%}\")\n",
        "\n",
        "##############       MÉTODO 2       ##############\n",
        "r23 = (1+0.12)**3 / (1+0.11)**2 -1\n",
        "print(f\"Método 2: el forward r23 es {r23:.5%}\")"
      ],
      "metadata": {
        "colab": {
          "base_uri": "https://localhost:8080/"
        },
        "id": "tdBUTOJvODmu",
        "outputId": "04d728f1-729a-47dd-af3d-4271b8df4ff9"
      },
      "execution_count": 4,
      "outputs": [
        {
          "output_type": "stream",
          "name": "stdout",
          "text": [
            "Bono A: [-100  110    0    0]\n",
            "Bono B: [-500.      0.    616.05    0.  ]\n",
            "Bono C: [-711.78024781    0.            0.         1000.        ]\n",
            "Bono D: [      0.               0.          438492.22166545 -500000.        ]\n",
            "Método 1: el forward r23 es 14.02711%\n",
            "Método 2: el forward r23 es 14.02711%\n"
          ]
        }
      ]
    }
  ]
}